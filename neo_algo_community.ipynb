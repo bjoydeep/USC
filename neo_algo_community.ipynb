{
 "cells": [
  {
   "cell_type": "code",
   "execution_count": 77,
   "metadata": {},
   "outputs": [
    {
     "name": "stdout",
     "output_type": "stream",
     "text": [
      "Requirement already satisfied: neo4j-driver in /Users/jbanerje/opt/anaconda3/lib/python3.7/site-packages (4.4.1)\n",
      "Requirement already satisfied: pytz in /Users/jbanerje/opt/anaconda3/lib/python3.7/site-packages (from neo4j-driver) (2019.3)\n",
      "Note: you may need to restart the kernel to use updated packages.\n"
     ]
    }
   ],
   "source": [
    "pip install neo4j-driver"
   ]
  },
  {
   "cell_type": "code",
   "execution_count": 78,
   "metadata": {},
   "outputs": [],
   "source": [
    "from neo4j import GraphDatabase, basic_auth"
   ]
  },
  {
   "cell_type": "code",
   "execution_count": 79,
   "metadata": {},
   "outputs": [],
   "source": [
    "import pandas as pd"
   ]
  },
  {
   "cell_type": "markdown",
   "metadata": {},
   "source": [
    "### Documentation\n",
    "1. For documentation on the python driver being used here _neo4j_ , refer https://neo4j.com/docs/api/python-driver/current/# .\n",
    "1. There is another popular python driver for Neo4j called _py2neo_. You can find it at https://py2neo.org/2021.1/\n",
    "1. General Link to python drivers for Neo4j : https://neo4j.com/developer/python/"
   ]
  },
  {
   "cell_type": "code",
   "execution_count": 81,
   "metadata": {},
   "outputs": [],
   "source": [
    "#from neo4j import GraphDatabase, basic_auth\n",
    "\n",
    "driver = GraphDatabase.driver(\n",
    "  \"bolt://54.172.10.220:7687\",\n",
    "  auth=basic_auth(\"neo4j\", \"analysis-definition-millimeter\"))\n",
    "   "
   ]
  },
  {
   "cell_type": "markdown",
   "metadata": {},
   "source": [
    "### Delete the Node type and relationship if it exists\n",
    "Refer: https://neo4j.com/docs/cypher-manual/current/clauses/delete/"
   ]
  },
  {
   "cell_type": "code",
   "execution_count": 82,
   "metadata": {},
   "outputs": [],
   "source": [
    "with driver.session(database=\"neo4j\") as session:\n",
    "    result = session.run(\"\"\"\n",
    "       MATCH (u:User) DETACH DELETE u\n",
    "    \"\"\")    "
   ]
  },
  {
   "cell_type": "markdown",
   "metadata": {},
   "source": [
    "### Create the Node type _User_ and _relationships_\n",
    "Refer: https://neo4j.com/docs/cypher-manual/current/clauses/create/"
   ]
  },
  {
   "cell_type": "code",
   "execution_count": 83,
   "metadata": {},
   "outputs": [],
   "source": [
    "with driver.session(database=\"neo4j\") as session:\n",
    "    result = session.run(\"\"\"\n",
    "        CREATE\n",
    "          (nAlice:User {name: 'Alice', seed: 42}),\n",
    "          (nBridget:User {name: 'Bridget', seed: 42}),\n",
    "          (nCharles:User {name: 'Charles', seed: 42}),\n",
    "          (nDoug:User {name: 'Doug'}),\n",
    "          (nMark:User {name: 'Mark'}),\n",
    "          (nMichael:User {name: 'Michael'}),\n",
    "\n",
    "          (nAlice)-[:LINK {weight: 1}]->(nBridget),\n",
    "          (nAlice)-[:LINK {weight: 1}]->(nCharles),\n",
    "          (nCharles)-[:LINK {weight: 1}]->(nBridget),\n",
    "\n",
    "          (nAlice)-[:LINK {weight: 5}]->(nDoug),\n",
    "\n",
    "          (nMark)-[:LINK {weight: 1}]->(nDoug),\n",
    "          (nMark)-[:LINK {weight: 1}]->(nMichael),\n",
    "          (nMichael)-[:LINK {weight: 1}]->(nMark);\n",
    "\n",
    "    \"\"\")"
   ]
  },
  {
   "cell_type": "markdown",
   "metadata": {},
   "source": [
    "### Drop Graph catalog (in memory projection) if exists\n",
    "Refer: https://neo4j.com/docs/graph-data-science/current/graph-drop/"
   ]
  },
  {
   "cell_type": "code",
   "execution_count": 84,
   "metadata": {},
   "outputs": [
    {
     "data": {
      "text/html": [
       "<div>\n",
       "<style scoped>\n",
       "    .dataframe tbody tr th:only-of-type {\n",
       "        vertical-align: middle;\n",
       "    }\n",
       "\n",
       "    .dataframe tbody tr th {\n",
       "        vertical-align: top;\n",
       "    }\n",
       "\n",
       "    .dataframe thead th {\n",
       "        text-align: right;\n",
       "    }\n",
       "</style>\n",
       "<table border=\"1\" class=\"dataframe\">\n",
       "  <thead>\n",
       "    <tr style=\"text-align: right;\">\n",
       "      <th></th>\n",
       "      <th>graphName</th>\n",
       "      <th>nodeCount</th>\n",
       "      <th>relationshipCount</th>\n",
       "    </tr>\n",
       "  </thead>\n",
       "  <tbody>\n",
       "    <tr>\n",
       "      <th>0</th>\n",
       "      <td>myCommunity</td>\n",
       "      <td>6</td>\n",
       "      <td>14</td>\n",
       "    </tr>\n",
       "  </tbody>\n",
       "</table>\n",
       "</div>"
      ],
      "text/plain": [
       "     graphName  nodeCount  relationshipCount\n",
       "0  myCommunity          6                 14"
      ]
     },
     "execution_count": 84,
     "metadata": {},
     "output_type": "execute_result"
    }
   ],
   "source": [
    "with driver.session(database=\"neo4j\") as session:\n",
    "    result = session.run(\"\"\"\n",
    "        CALL gds.graph.drop('myCommunity',false) \n",
    "        YIELD graphName, nodeCount, relationshipCount\n",
    "        RETURN graphName, nodeCount, relationshipCount  \n",
    "    \"\"\")\n",
    "    \n",
    "    graphdrop_df = pd.DataFrame([dict(record) for record in result])\n",
    "graphdrop_df"
   ]
  },
  {
   "cell_type": "markdown",
   "metadata": {},
   "source": [
    "### Create in memory Graph Projection or Graph Catalog\n",
    "Refer: https://neo4j.com/docs/graph-data-science/current/graph-create/"
   ]
  },
  {
   "cell_type": "code",
   "execution_count": 85,
   "metadata": {},
   "outputs": [
    {
     "data": {
      "text/html": [
       "<div>\n",
       "<style scoped>\n",
       "    .dataframe tbody tr th:only-of-type {\n",
       "        vertical-align: middle;\n",
       "    }\n",
       "\n",
       "    .dataframe tbody tr th {\n",
       "        vertical-align: top;\n",
       "    }\n",
       "\n",
       "    .dataframe thead th {\n",
       "        text-align: right;\n",
       "    }\n",
       "</style>\n",
       "<table border=\"1\" class=\"dataframe\">\n",
       "  <thead>\n",
       "    <tr style=\"text-align: right;\">\n",
       "      <th></th>\n",
       "      <th>graphName</th>\n",
       "      <th>nodeCount</th>\n",
       "      <th>relationshipCount</th>\n",
       "    </tr>\n",
       "  </thead>\n",
       "  <tbody>\n",
       "    <tr>\n",
       "      <th>0</th>\n",
       "      <td>myCommunity</td>\n",
       "      <td>6</td>\n",
       "      <td>14</td>\n",
       "    </tr>\n",
       "  </tbody>\n",
       "</table>\n",
       "</div>"
      ],
      "text/plain": [
       "     graphName  nodeCount  relationshipCount\n",
       "0  myCommunity          6                 14"
      ]
     },
     "execution_count": 85,
     "metadata": {},
     "output_type": "execute_result"
    }
   ],
   "source": [
    "with driver.session(database=\"neo4j\") as session:\n",
    "    result = session.run(\"\"\"\n",
    "        CALL gds.graph.create(\n",
    "        'myCommunity',\n",
    "        'User',\n",
    "        {\n",
    "            LINK: {\n",
    "                orientation: 'UNDIRECTED'\n",
    "            }\n",
    "        },\n",
    "        {\n",
    "            nodeProperties: 'seed',\n",
    "            relationshipProperties: 'weight'\n",
    "        }\n",
    "        )\n",
    "        YIELD graphName, nodeCount, relationshipCount\n",
    "        RETURN graphName, nodeCount, relationshipCount  \n",
    "\n",
    "    \"\"\")\n",
    "    \n",
    "    graphcreate_df = pd.DataFrame([dict(record) for record in result])\n",
    "graphcreate_df"
   ]
  },
  {
   "cell_type": "markdown",
   "metadata": {},
   "source": [
    "### Run Community Detection\n",
    "1. Using Louvain\n",
    "1. Returns communityId - community id of the node when all iterations are done\n",
    "1. Returns intermediateCommunityIds -  Louvain is a hierarchical clustering algorithm. That means that after every clustering step all nodes that belong to the same cluster are reduced to a single node. Relationships between nodes of the same cluster become self-relationships, relationships to nodes of other clusters connect to the clusters representative. This condensed graph is then used to run the next level of clustering. The process is repeated until the clusters are stable. And community id detected at each step _except for the final step_ is stored in this column\n",
    "1. Refer: https://neo4j.com/docs/graph-data-science/current/algorithms/louvain/"
   ]
  },
  {
   "cell_type": "code",
   "execution_count": 86,
   "metadata": {},
   "outputs": [
    {
     "data": {
      "text/html": [
       "<div>\n",
       "<style scoped>\n",
       "    .dataframe tbody tr th:only-of-type {\n",
       "        vertical-align: middle;\n",
       "    }\n",
       "\n",
       "    .dataframe tbody tr th {\n",
       "        vertical-align: top;\n",
       "    }\n",
       "\n",
       "    .dataframe thead th {\n",
       "        text-align: right;\n",
       "    }\n",
       "</style>\n",
       "<table border=\"1\" class=\"dataframe\">\n",
       "  <thead>\n",
       "    <tr style=\"text-align: right;\">\n",
       "      <th></th>\n",
       "      <th>name</th>\n",
       "      <th>communityId</th>\n",
       "      <th>intermediateCommunityIds</th>\n",
       "    </tr>\n",
       "  </thead>\n",
       "  <tbody>\n",
       "    <tr>\n",
       "      <th>0</th>\n",
       "      <td>Alice</td>\n",
       "      <td>2</td>\n",
       "      <td>[2]</td>\n",
       "    </tr>\n",
       "    <tr>\n",
       "      <th>1</th>\n",
       "      <td>Bridget</td>\n",
       "      <td>2</td>\n",
       "      <td>[2]</td>\n",
       "    </tr>\n",
       "    <tr>\n",
       "      <th>2</th>\n",
       "      <td>Charles</td>\n",
       "      <td>2</td>\n",
       "      <td>[2]</td>\n",
       "    </tr>\n",
       "    <tr>\n",
       "      <th>3</th>\n",
       "      <td>Doug</td>\n",
       "      <td>5</td>\n",
       "      <td>[5]</td>\n",
       "    </tr>\n",
       "    <tr>\n",
       "      <th>4</th>\n",
       "      <td>Mark</td>\n",
       "      <td>5</td>\n",
       "      <td>[5]</td>\n",
       "    </tr>\n",
       "    <tr>\n",
       "      <th>5</th>\n",
       "      <td>Michael</td>\n",
       "      <td>5</td>\n",
       "      <td>[5]</td>\n",
       "    </tr>\n",
       "  </tbody>\n",
       "</table>\n",
       "</div>"
      ],
      "text/plain": [
       "      name  communityId intermediateCommunityIds\n",
       "0    Alice            2                      [2]\n",
       "1  Bridget            2                      [2]\n",
       "2  Charles            2                      [2]\n",
       "3     Doug            5                      [5]\n",
       "4     Mark            5                      [5]\n",
       "5  Michael            5                      [5]"
      ]
     },
     "execution_count": 86,
     "metadata": {},
     "output_type": "execute_result"
    }
   ],
   "source": [
    "with driver.session(database=\"neo4j\") as session:\n",
    "    result = session.run(\"\"\"\n",
    "        CALL gds.louvain.stream('myCommunity',{includeIntermediateCommunities: true}) \n",
    "        YIELD nodeId, communityId, intermediateCommunityIds\n",
    "        RETURN gds.util.asNode(nodeId).name AS name, communityId, intermediateCommunityIds\n",
    "        ORDER BY name ASC\n",
    "    \"\"\")\n",
    "    \n",
    "    community_df = pd.DataFrame([dict(record) for record in result])\n",
    "community_df    \n"
   ]
  },
  {
   "cell_type": "code",
   "execution_count": 87,
   "metadata": {},
   "outputs": [
    {
     "name": "stdout",
     "output_type": "stream",
     "text": [
      "Number of Unique Communities detected:  2\n"
     ]
    }
   ],
   "source": [
    "n= community_df.communityId.nunique()\n",
    "print(\"Number of Unique Communities detected: \",n)"
   ]
  },
  {
   "cell_type": "code",
   "execution_count": null,
   "metadata": {},
   "outputs": [],
   "source": []
  }
 ],
 "metadata": {
  "kernelspec": {
   "display_name": "Python 3",
   "language": "python",
   "name": "python3"
  },
  "language_info": {
   "codemirror_mode": {
    "name": "ipython",
    "version": 3
   },
   "file_extension": ".py",
   "mimetype": "text/x-python",
   "name": "python",
   "nbconvert_exporter": "python",
   "pygments_lexer": "ipython3",
   "version": "3.7.6"
  }
 },
 "nbformat": 4,
 "nbformat_minor": 4
}
